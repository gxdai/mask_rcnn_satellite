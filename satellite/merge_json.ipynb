{
 "cells": [
  {
   "cell_type": "markdown",
   "metadata": {},
   "source": [
    "# Merge train and validation json file."
   ]
  },
  {
   "cell_type": "code",
   "execution_count": 1,
   "metadata": {},
   "outputs": [],
   "source": [
    "import json\n",
    "train_json = \"/home/ubuntu/data/complete_set/annotations/train.json\"\n",
    "test_json = \"/home/ubuntu/data/complete_set/annotations/val.json\"\n",
    "complete_json = \"/home/ubuntu/data/complete_set/annotations/complete.json\"\n",
    "\n",
    "# read json file\n",
    "def read_json(json_file):\n",
    "    with open(json_file) as f:\n",
    "        return json.load(f)\n",
    "\n",
    "train_info = read_json(train_json)\n",
    "test_info = read_json(test_json)"
   ]
  },
  {
   "cell_type": "code",
   "execution_count": 2,
   "metadata": {},
   "outputs": [
    {
     "name": "stdout",
     "output_type": "stream",
     "text": [
      "95317\n",
      "3417\n",
      "[{'coco_url': 'trainimages/001001035.jpg', 'date_captured': '2018-12-14 17:02:52', 'file_name': '001001035.jpg', 'flickr_url': 'trainimages/001001035.jpg', 'height': 1024, 'id': 1, 'width': 1024}, {'coco_url': 'trainimages/001001036.jpg', 'date_captured': '2018-12-14 17:02:52', 'file_name': '001001036.jpg', 'flickr_url': 'trainimages/001001036.jpg', 'height': 1024, 'id': 2, 'width': 1024}]\n",
      "[{'area': 47175.02591519058, 'bbox': [373.98, 852.59, 579.9, 170.41], 'category_id': 14, 'id': 1, 'image_id': 1, 'iscrowd': 0, 'segmentation': [[373.98, 1023.0, 953.88, 1023.0, 933.84, 965.01, 929.39, 933.84, 896.0, 854.82, 872.63, 862.61, 865.95, 852.59, 723.48, 903.79, 731.26, 929.57, 710.81, 937.12, 692.24, 943.22, 683.35, 931.22, 559.35, 965.44, 562.9, 979.22, 514.9, 995.66, 512.68, 990.77]]}, {'area': 3205.940523948815, 'bbox': [242.92, 623.55, 61.89, 75.56], 'category_id': 14, 'id': 2, 'image_id': 2, 'iscrowd': 0, 'segmentation': [[242.92, 640.45, 264.45, 699.11, 303.35, 692.22, 304.81, 687.54, 288.45, 623.55, 250.23, 628.2]]}]\n",
      "[{'coco_url': 'valimages/001002031.jpg', 'date_captured': '2018-12-14 17:02:52', 'file_name': '001002031.jpg', 'flickr_url': 'valimages/001002031.jpg', 'height': 1024, 'id': 1, 'width': 1024}, {'coco_url': 'valimages/001002039.jpg', 'date_captured': '2018-12-14 17:02:52', 'file_name': '001002039.jpg', 'flickr_url': 'valimages/001002039.jpg', 'height': 1024, 'id': 2, 'width': 1024}]\n",
      "[{'area': 4944.486400000266, 'bbox': [152.25, 794.83, 84.48, 70.4], 'category_id': 14, 'id': 1, 'image_id': 1, 'iscrowd': 0, 'segmentation': [[152.25, 800.59, 217.53, 794.83, 223.29, 794.83, 228.41, 798.67, 236.73, 857.55, 225.21, 860.11, 161.85, 865.23, 156.73, 834.51]]}, {'area': 542.1740941274663, 'bbox': [306.91, 143.43, 26.13, 32.98], 'category_id': 5, 'id': 2, 'image_id': 2, 'iscrowd': 0, 'segmentation': [[310.18, 174.13, 306.91, 172.17, 308.55, 167.27, 311.81, 161.39, 314.75, 149.96, 318.01, 144.41, 323.24, 143.43, 329.77, 144.09, 333.04, 149.31, 330.42, 159.43, 326.18, 167.6, 324.22, 175.43, 318.01, 176.41]]}]\n"
     ]
    }
   ],
   "source": [
    "print(len(train_info['annotations']))\n",
    "print(len(test_info['annotations']))\n",
    "print(train_info['images'][:2])\n",
    "print(train_info['annotations'][:2])\n",
    "print(test_info['images'][:2])\n",
    "print(test_info['annotations'][:2])"
   ]
  },
  {
   "cell_type": "code",
   "execution_count": 3,
   "metadata": {},
   "outputs": [
    {
     "name": "stdout",
     "output_type": "stream",
     "text": [
      "Update annatations part\n",
      "95317\n",
      "1441\n"
     ]
    }
   ],
   "source": [
    "# To merge these two json_files, we need to update the parts of annotations and images.\n",
    "print(\"Update annatations part\")\n",
    "last_annotation_id = train_info['annotations'][-1]['id']\n",
    "last_image_id = train_info['images'][-1]['id']\n",
    "print(last_annotation_id)\n",
    "print(last_image_id)"
   ]
  },
  {
   "cell_type": "code",
   "execution_count": 4,
   "metadata": {},
   "outputs": [
    {
     "name": "stdout",
     "output_type": "stream",
     "text": [
      "Update images parts\n",
      "98734\n",
      "1513\n",
      "98734\n",
      "1513\n"
     ]
    }
   ],
   "source": [
    "for annotation in test_info['annotations']:\n",
    "    annotation['id'] += last_annotation_id\n",
    "    annotation['image_id'] += last_image_id\n",
    "    \n",
    "    train_info['annotations'].append(annotation)\n",
    "\n",
    "print(\"Update images parts\")\n",
    "for image in test_info['images']:\n",
    "    image['id'] += last_image_id\n",
    "    train_info['images'].append(image)\n",
    "    \n",
    "print(len(train_info['annotations']))\n",
    "print(len(train_info['images']))\n",
    "\n",
    "\n",
    "print(train_info['annotations'][-1]['id'])\n",
    "print(train_info['images'][-1]['id'])"
   ]
  },
  {
   "cell_type": "code",
   "execution_count": 5,
   "metadata": {},
   "outputs": [],
   "source": [
    "# save the complete json data\n",
    "with open(complete_json, 'w') as f:\n",
    "    json.dump(train_info, f)"
   ]
  },
  {
   "cell_type": "code",
   "execution_count": 7,
   "metadata": {},
   "outputs": [
    {
     "name": "stdout",
     "output_type": "stream",
     "text": [
      "98734\n",
      "65\n",
      "1513\n"
     ]
    }
   ],
   "source": [
    "# verify complete json file\n",
    "with open(complete_json) as f:\n",
    "    data_info = json.load(f)\n",
    "    \n",
    "print(len(data_info['annotations']))\n",
    "print(len(data_info['categories']))\n",
    "print(len(data_info['images']))"
   ]
  },
  {
   "cell_type": "code",
   "execution_count": null,
   "metadata": {},
   "outputs": [],
   "source": []
  }
 ],
 "metadata": {
  "kernelspec": {
   "display_name": "Python 3",
   "language": "python",
   "name": "python3"
  },
  "language_info": {
   "codemirror_mode": {
    "name": "ipython",
    "version": 3
   },
   "file_extension": ".py",
   "mimetype": "text/x-python",
   "name": "python",
   "nbconvert_exporter": "python",
   "pygments_lexer": "ipython3",
   "version": "3.6.7"
  }
 },
 "nbformat": 4,
 "nbformat_minor": 2
}
